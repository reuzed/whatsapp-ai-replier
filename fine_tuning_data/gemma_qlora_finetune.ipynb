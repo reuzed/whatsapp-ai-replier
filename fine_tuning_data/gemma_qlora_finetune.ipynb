{
 "cells": [
  {
   "cell_type": "markdown",
   "metadata": {},
   "source": [
    "# QLoRA Fine-tuning (Gemma) on fine_tune_data.json\n",
    "\n",
    "This basic notebook fine-tunes a small Gemma Instruct model with QLoRA on pairs from `fine_tuning_data/fine_tune_data.json`.\n",
    "\n",
    "- Model: adjustable (defaults to `google/gemma-2-2b-it`).\n",
    "- Method: QLoRA (4-bit quantization via bitsandbytes + PEFT LoRA) using TRL's SFTTrainer.\n",
    "- Data: list of objects with keys `llm_message` (input/prompt) and `user_message` (target/response).\n",
    "\n",
    "Run top-to-bottom on a GPU runtime (e.g., Runpod).\n"
   ]
  },
  {
   "cell_type": "code",
   "execution_count": 1,
   "metadata": {
    "vscode": {
     "languageId": "plaintext"
    }
   },
   "outputs": [
    {
     "name": "stdout",
     "output_type": "stream",
     "text": [
      "Note: you may need to restart the kernel to use updated packages.\n"
     ]
    }
   ],
   "source": [
    "pip install -q transformers datasets accelerate peft trl bitsandbytes einops hf_transfer datasets evaluate scikit-learn\n"
   ]
  },
  {
   "cell_type": "code",
   "execution_count": 2,
   "metadata": {},
   "outputs": [
    {
     "data": {
      "application/vnd.jupyter.widget-view+json": {
       "model_id": "d722794b312b4b69a257e7739448cfbb",
       "version_major": 2,
       "version_minor": 0
      },
      "text/plain": [
       "README.md:   0%|          | 0.00/492 [00:00<?, ?B/s]"
      ]
     },
     "metadata": {},
     "output_type": "display_data"
    },
    {
     "data": {
      "text/plain": [
       "DatasetInfo(description='', citation='', homepage='', license='', features={'llm_message': Value('string'), 'user_message': Value('string')}, post_processed=None, supervised_keys=None, builder_name='parquet', dataset_name='message_style_data', config_name='default', version=0.0.0, splits={'train': SplitInfo(name='train', num_bytes=3310, num_examples=18, shard_lengths=None, dataset_name=None), 'val': SplitInfo(name='val', num_bytes=367, num_examples=2, shard_lengths=None, dataset_name=None), 'test': SplitInfo(name='test', num_bytes=551, num_examples=3, shard_lengths=None, dataset_name=None)}, download_checksums=None, download_size=9233, post_processing_size=None, dataset_size=4228, size_in_bytes=None)"
      ]
     },
     "execution_count": 2,
     "metadata": {},
     "output_type": "execute_result"
    }
   ],
   "source": [
    "from datasets import load_dataset_builder\n",
    "ds_builder = load_dataset_builder(\"MJ141592/message_style_data\")\n",
    "ds_builder.info\n"
   ]
  },
  {
   "cell_type": "code",
   "execution_count": 6,
   "metadata": {},
   "outputs": [
    {
     "data": {
      "application/vnd.jupyter.widget-view+json": {
       "model_id": "4d6aebfe13e0442aa511293bdd3c0565",
       "version_major": 2,
       "version_minor": 0
      },
      "text/plain": [
       "Map:   0%|          | 0/18 [00:00<?, ? examples/s]"
      ]
     },
     "metadata": {},
     "output_type": "display_data"
    },
    {
     "data": {
      "application/vnd.jupyter.widget-view+json": {
       "model_id": "2ca630910c474711b0d4c16239463751",
       "version_major": 2,
       "version_minor": 0
      },
      "text/plain": [
       "Map:   0%|          | 0/2 [00:00<?, ? examples/s]"
      ]
     },
     "metadata": {},
     "output_type": "display_data"
    },
    {
     "data": {
      "application/vnd.jupyter.widget-view+json": {
       "model_id": "3d6b0b8f1bca4288a02cc6760333622c",
       "version_major": 2,
       "version_minor": 0
      },
      "text/plain": [
       "Map:   0%|          | 0/3 [00:00<?, ? examples/s]"
      ]
     },
     "metadata": {},
     "output_type": "display_data"
    }
   ],
   "source": [
    "from transformers import AutoTokenizer\n",
    "from datasets import load_dataset\n",
    "\n",
    "ds = load_dataset(\"MJ141592/message_style_data\")\n",
    "\n",
    "tokenizer = AutoTokenizer.from_pretrained(\"google/gemma-3-270m-it\")\n",
    "\n",
    "def tokenize_function(example):\n",
    "    # Construct Gemma chat format\n",
    "    user_message = example[\"llm_message\"]\n",
    "    model_message = example[\"user_message\"]\n",
    "\n",
    "    text = (\n",
    "        f\"<start_of_turn>user\\n{user_message}\\n<end_of_turn>\\n\"\n",
    "        f\"<start_of_turn>model\\n{model_message}\\n<end_of_turn>\\n\"\n",
    "    )\n",
    "\n",
    "    # Tokenize the full sequence\n",
    "    tokenized = tokenizer(\n",
    "        text,\n",
    "        truncation=True,\n",
    "        max_length=512,\n",
    "        padding=\"max_length\",\n",
    "    )\n",
    "\n",
    "    # Now mask out everything *before* the model’s message\n",
    "    # Find where the model turn starts in tokenized IDs\n",
    "    model_start = text.find(\"<start_of_turn>model\")\n",
    "    model_start_tokens = len(\n",
    "        tokenizer(text[:model_start], truncation=True, max_length=512)[\"input_ids\"]\n",
    "    )\n",
    "\n",
    "    labels = tokenized[\"input_ids\"].copy()\n",
    "    labels[:model_start_tokens] = [-100] * model_start_tokens  # ignore loss before model turn\n",
    "    tokenized[\"labels\"] = labels\n",
    "\n",
    "    return tokenized\n",
    "\n",
    "tokenized_dataset = ds.map(tokenize_function, batched=False)"
   ]
  },
  {
   "cell_type": "code",
   "execution_count": 14,
   "metadata": {},
   "outputs": [
    {
     "name": "stdout",
     "output_type": "stream",
     "text": [
      "<pad><pad><pad><pad><pad><pad><pad><pad><pad><pad><pad><pad><pad><pad><pad><pad><pad><pad><pad><pad><pad><pad><pad><pad><pad><pad><pad><pad><pad><pad><pad><pad><pad><pad><pad><pad><pad><pad><pad><pad><pad><pad><pad><pad><pad><pad><pad><pad><pad><pad><pad><pad><pad><pad><pad><pad><pad><pad><pad><pad><pad><pad><pad><pad><pad><pad><pad><pad><pad><pad><pad><pad><pad><pad><pad><pad><pad><pad><pad><pad><pad><pad><pad><pad><pad><pad><pad><pad><pad><pad><pad><pad><pad><pad><pad><pad><pad><pad><pad><pad><pad><pad><pad><pad><pad><pad><pad><pad><pad><pad><pad><pad><pad><pad><pad><pad><pad><pad><pad><pad><pad><pad><pad><pad><pad><pad><pad><pad><pad><pad><pad><pad><pad><pad><pad><pad><pad><pad><pad><pad><pad><pad><pad><pad><pad><pad><pad><pad><pad><pad><pad><pad><pad><pad><pad><pad><pad><pad><pad><pad><pad><pad><pad><pad><pad><pad><pad><pad><pad><pad><pad><pad><pad><pad><pad><pad><pad><pad><pad><pad><pad><pad><pad><pad><pad><pad><pad><pad><pad><pad><pad><pad><pad><pad><pad><pad><pad><pad><pad><pad><pad><pad><pad><pad><pad><pad><pad><pad><pad><pad><pad><pad><pad><pad><pad><pad><pad><pad><pad><pad><pad><pad><pad><pad><pad><pad><pad><pad><pad><pad><pad><pad><pad><pad><pad><pad><pad><pad><pad><pad><pad><pad><pad><pad><pad><pad><pad><pad><pad><pad><pad><pad><pad><pad><pad><pad><pad><pad><pad><pad><pad><pad><pad><pad><pad><pad><pad><pad><pad><pad><pad><pad><pad><pad><pad><pad><pad><pad><pad><pad><pad><pad><pad><pad><pad><pad><pad><pad><pad><pad><pad><pad><pad><pad><pad><pad><pad><pad><pad><pad><pad><pad><pad><pad><pad><pad><pad><pad><pad><pad><pad><pad><pad><pad><pad><pad><pad><pad><pad><pad><pad><pad><pad><pad><pad><pad><pad><pad><pad><pad><pad><pad><pad><pad><pad><pad><pad><pad><pad><pad><pad><pad><pad><pad><pad><pad><pad><pad><pad><pad><pad><pad><pad><pad><pad><pad><pad><pad><pad><pad><pad><pad><pad><pad><pad><pad><pad><pad><pad><pad><pad><pad><pad><pad><pad><pad><pad><pad><pad><pad><pad><pad><pad><pad><pad><pad><pad><pad><pad><pad><pad><pad><pad><pad><pad><pad><pad><pad><pad><pad><pad><pad><pad><pad><pad><pad><pad><pad><pad><pad><pad><pad><pad><pad><pad><pad><pad><pad><pad><pad><pad><pad><pad><pad><pad><pad><bos><start_of_turn>user\n",
      "Look, if you don't get your act together I'm gonna dump a load of bricks in your wheelie bin and you can have a laugh trying to explain that one to the bin collectors\n",
      "<end_of_turn>\n",
      "<start_of_turn>model\n",
      "Mate, if you don't sort yourself out I'm gonna fill your wheelie bin with bricks and you'll have fun explaining that to the bin men\n",
      "<end_of_turn>\n",
      "\n",
      "[-100, -100, -100, -100, -100, -100, -100, -100, -100, -100, -100, -100, -100, -100, -100, -100, -100, -100, -100, -100, -100, -100, -100, -100, -100, -100, -100, -100, -100, -100, -100, -100, -100, -100, -100, -100, -100, -100, -100, -100, -100, -100, -100, -100, -100, -100, -100, 0, 0, 0]\n"
     ]
    }
   ],
   "source": [
    "example = tokenized_dataset[\"train\"][0]\n",
    "decoded = tokenizer.decode(example[\"input_ids\"])\n",
    "print(decoded)\n",
    "print(example[\"labels\"][:50])"
   ]
  },
  {
   "cell_type": "code",
   "execution_count": 20,
   "metadata": {},
   "outputs": [
    {
     "name": "stderr",
     "output_type": "stream",
     "text": [
      "The tokenizer has new PAD/BOS/EOS tokens that differ from the model config and generation config. The model config and generation config were aligned accordingly, being updated with the tokenizer's values. Updated tokens: {'bos_token_id': 2, 'pad_token_id': 0}.\n"
     ]
    },
    {
     "data": {
      "text/html": [
       "\n",
       "    <div>\n",
       "      \n",
       "      <progress value='50' max='50' style='width:300px; height:20px; vertical-align: middle;'></progress>\n",
       "      [50/50 00:38, Epoch 16/17]\n",
       "    </div>\n",
       "    <table border=\"1\" class=\"dataframe\">\n",
       "  <thead>\n",
       " <tr style=\"text-align: left;\">\n",
       "      <th>Step</th>\n",
       "      <th>Training Loss</th>\n",
       "    </tr>\n",
       "  </thead>\n",
       "  <tbody>\n",
       "    <tr>\n",
       "      <td>10</td>\n",
       "      <td>3.336400</td>\n",
       "    </tr>\n",
       "    <tr>\n",
       "      <td>20</td>\n",
       "      <td>0.210000</td>\n",
       "    </tr>\n",
       "    <tr>\n",
       "      <td>30</td>\n",
       "      <td>0.092400</td>\n",
       "    </tr>\n",
       "    <tr>\n",
       "      <td>40</td>\n",
       "      <td>0.032900</td>\n",
       "    </tr>\n",
       "    <tr>\n",
       "      <td>50</td>\n",
       "      <td>0.023700</td>\n",
       "    </tr>\n",
       "  </tbody>\n",
       "</table><p>"
      ],
      "text/plain": [
       "<IPython.core.display.HTML object>"
      ]
     },
     "metadata": {},
     "output_type": "display_data"
    },
    {
     "data": {
      "text/plain": [
       "TrainOutput(global_step=50, training_loss=0.7390912637114525, metrics={'train_runtime': 39.0842, 'train_samples_per_second': 10.234, 'train_steps_per_second': 1.279, 'total_flos': 93693262430208.0, 'train_loss': 0.7390912637114525, 'epoch': 16.88888888888889})"
      ]
     },
     "execution_count": 20,
     "metadata": {},
     "output_type": "execute_result"
    }
   ],
   "source": [
    "from trl import SFTTrainer, SFTConfig\n",
    "from transformers import AutoModelForCausalLM\n",
    "\n",
    "model = AutoModelForCausalLM.from_pretrained(\"google/gemma-3-270m-it\")\n",
    "\n",
    "training_args = SFTConfig(\n",
    "    output_dir=\"./gemma-finetuned\",\n",
    "    per_device_train_batch_size=2,\n",
    "    gradient_accumulation_steps=4,\n",
    "    learning_rate=2e-5,\n",
    "    max_steps=50,\n",
    "    logging_steps=10,\n",
    "    bf16=True,\n",
    ")\n",
    "\n",
    "trainer = SFTTrainer(\n",
    "    model=model,\n",
    "    train_dataset=tokenized_dataset[\"train\"],\n",
    "    eval_dataset=tokenized_dataset[\"val\"],\n",
    "    args=training_args,\n",
    ")\n",
    "trainer.train()"
   ]
  },
  {
   "cell_type": "code",
   "execution_count": 22,
   "metadata": {},
   "outputs": [
    {
     "data": {
      "text/plain": [
       "('./gemma-finetuned/tokenizer_config.json',\n",
       " './gemma-finetuned/special_tokens_map.json',\n",
       " './gemma-finetuned/chat_template.jinja',\n",
       " './gemma-finetuned/tokenizer.json')"
      ]
     },
     "execution_count": 22,
     "metadata": {},
     "output_type": "execute_result"
    }
   ],
   "source": [
    "trainer.save_model(\"./gemma-finetuned\")\n",
    "tokenizer.save_pretrained(\"./gemma-finetuned\")"
   ]
  },
  {
   "cell_type": "code",
   "execution_count": 23,
   "metadata": {},
   "outputs": [
    {
     "name": "stderr",
     "output_type": "stream",
     "text": [
      "Device set to use cuda:0\n"
     ]
    },
    {
     "name": "stdout",
     "output_type": "stream",
     "text": [
      "<start_of_turn>user\n",
      "Hey, how are you?\n",
      "<end_of_turn>\n",
      "<start_of_turn>model\n",
      "Hey there! I'm doing well, thanks :)\n",
      "\n"
     ]
    }
   ],
   "source": [
    "from transformers import pipeline\n",
    "\n",
    "pipe = pipeline(\n",
    "    \"text-generation\",\n",
    "    model=\"./gemma-finetuned\",\n",
    "    tokenizer=tokenizer,\n",
    "    device=0\n",
    ")\n",
    "\n",
    "prompt = \"<start_of_turn>user\\nHey, how are you?\\n<end_of_turn>\\n<start_of_turn>model\\n\"\n",
    "response = pipe(prompt, max_new_tokens=100)[0][\"generated_text\"]\n",
    "print(response)"
   ]
  },
  {
   "cell_type": "code",
   "execution_count": 25,
   "metadata": {},
   "outputs": [
    {
     "data": {
      "application/vnd.jupyter.widget-view+json": {
       "model_id": "73141645893e4d4995a2c91a934cf8a6",
       "version_major": 2,
       "version_minor": 0
      },
      "text/plain": [
       "README.md: 0.00B [00:00, ?B/s]"
      ]
     },
     "metadata": {},
     "output_type": "display_data"
    },
    {
     "data": {
      "application/vnd.jupyter.widget-view+json": {
       "model_id": "faac3f923838409d88d06f3b8e4b7122",
       "version_major": 2,
       "version_minor": 0
      },
      "text/plain": [
       "Processing Files (0 / 0): |          |  0.00B /  0.00B            "
      ]
     },
     "metadata": {},
     "output_type": "display_data"
    },
    {
     "data": {
      "application/vnd.jupyter.widget-view+json": {
       "model_id": "92122cdf0450403e87c231db3b28bdbd",
       "version_major": 2,
       "version_minor": 0
      },
      "text/plain": [
       "New Data Upload: |          |  0.00B /  0.00B            "
      ]
     },
     "metadata": {},
     "output_type": "display_data"
    },
    {
     "name": "stderr",
     "output_type": "stream",
     "text": [
      "No files have been modified since last commit. Skipping to prevent empty commit.\n"
     ]
    },
    {
     "data": {
      "text/plain": [
       "CommitInfo(commit_url='https://huggingface.co/MJ141592/first_ft_try_on_message_style/commit/ec110bd8c03fd81ba27e9fed72e7d270367cd3be', commit_message='Upload Gemma3ForCausalLM', commit_description='', oid='ec110bd8c03fd81ba27e9fed72e7d270367cd3be', pr_url=None, repo_url=RepoUrl('https://huggingface.co/MJ141592/first_ft_try_on_message_style', endpoint='https://huggingface.co', repo_type='model', repo_id='MJ141592/first_ft_try_on_message_style'), pr_revision=None, pr_num=None)"
      ]
     },
     "execution_count": 25,
     "metadata": {},
     "output_type": "execute_result"
    }
   ],
   "source": [
    "model.push_to_hub(\"MJ141592/first_ft_try_on_message_style\")\n",
    "tokenizer.push_to_hub(\"MJ141592/first_ft_try_on_message_style\")"
   ]
  },
  {
   "cell_type": "code",
   "execution_count": 29,
   "metadata": {},
   "outputs": [
    {
     "name": "stderr",
     "output_type": "stream",
     "text": [
      "Evaluating: 100%|██████████| 3/3 [00:02<00:00,  1.12it/s]"
     ]
    },
    {
     "name": "stdout",
     "output_type": "stream",
     "text": [
      "🗣️ Prompt: I'll fill your bin with bricks back\n",
      "🎯 Target: I'll fill your bin with bricks\n",
      "🤖 Generated: I'll fill your bin with bricks back in my bag (or make one of my own if you want to keep it tidy)\n",
      "\n",
      "--------------------------------------------------------------------------------\n",
      "🗣️ Prompt: I could call you in about 10 minutes if you're around\n",
      "🎯 Target: Calling in maybe 10 minutes would be good if you're free\n",
      "🤖 Generated: I could call you in about 10 minutes if you're around, but in a few minutes would be best for me to focus on some kind of urgent task right now. Happy you're free!\n",
      "\n",
      "--------------------------------------------------------------------------------\n",
      "🗣️ Prompt: You've overlooked a section on my diagram that says basically the same thing except for those two crucial lines\n",
      "🎯 Target: You've missed the part on my diagram saying approximately the same except for a crucial two lines:\n",
      "🤖 Generated: You've overlooked a section on my diagram that says basically the same thing except for those two crucial lines:\n",
      "\n",
      "```python\n",
      "def process_data(data, process, job):\n",
      "    \"\"\"\n",
      "    Processes data using the process and job\n",
      "    \"\"\"\n",
      "    print(f\"Processing data: {data}\")\n",
      "    print(f\"Process\n",
      "--------------------------------------------------------------------------------\n"
     ]
    },
    {
     "name": "stderr",
     "output_type": "stream",
     "text": [
      "\n"
     ]
    }
   ],
   "source": [
    "from transformers import AutoModelForCausalLM, AutoTokenizer\n",
    "from tqdm import tqdm\n",
    "import torch\n",
    "\n",
    "# Load the fine-tuned model and tokenizer\n",
    "model_path = \"./gemma-finetuned\"  # or \"./gemma-finetuned-merged\" if you merged a LoRA\n",
    "tokenizer = AutoTokenizer.from_pretrained(model_path)\n",
    "model = AutoModelForCausalLM.from_pretrained(model_path).to(\"cuda\")\n",
    "\n",
    "# Evaluate on the test set\n",
    "test_set = dataset[\"test\"]\n",
    "\n",
    "# Define an evaluation function\n",
    "def evaluate_model(model, tokenizer, test_data, max_new_tokens=50, num_samples=100):\n",
    "    model.eval()\n",
    "    results = []\n",
    "\n",
    "    # Sample a subset to keep things fast\n",
    "    samples = test_data.select(range(min(num_samples, len(test_data))))\n",
    "\n",
    "    for sample in tqdm(samples, desc=\"Evaluating\"):\n",
    "        prompt = sample[\"llm_message\"]\n",
    "        target = sample[\"user_message\"]\n",
    "\n",
    "        inputs = tokenizer(prompt, return_tensors=\"pt\").to(model.device)\n",
    "        with torch.no_grad():\n",
    "            outputs = model.generate(**inputs, max_new_tokens=max_new_tokens)\n",
    "        generated = tokenizer.decode(outputs[0], skip_special_tokens=True)\n",
    "\n",
    "        results.append({\n",
    "            \"prompt\": prompt,\n",
    "            \"target\": target,\n",
    "            \"generated\": generated\n",
    "        })\n",
    "\n",
    "    return results\n",
    "\n",
    "# Run the evaluation\n",
    "results = evaluate_model(model, tokenizer, test_set, num_samples=100)\n",
    "\n",
    "# Display a few examples\n",
    "for r in results[:5]:\n",
    "    print(\"🗣️ Prompt:\", r[\"prompt\"])\n",
    "    print(\"🎯 Target:\", r[\"target\"])\n",
    "    print(\"🤖 Generated:\", r[\"generated\"])\n",
    "    print(\"-\" * 80)"
   ]
  },
  {
   "cell_type": "code",
   "execution_count": 27,
   "metadata": {},
   "outputs": [
    {
     "data": {
      "application/vnd.jupyter.widget-view+json": {
       "model_id": "e49705459b5442699c804740ce038747",
       "version_major": 2,
       "version_minor": 0
      },
      "text/plain": [
       "config.json: 0.00B [00:00, ?B/s]"
      ]
     },
     "metadata": {},
     "output_type": "display_data"
    },
    {
     "data": {
      "application/vnd.jupyter.widget-view+json": {
       "model_id": "43de743b47344682881cea75449e07c8",
       "version_major": 2,
       "version_minor": 0
      },
      "text/plain": [
       "model.safetensors:   0%|          | 0.00/1.07G [00:00<?, ?B/s]"
      ]
     },
     "metadata": {},
     "output_type": "display_data"
    },
    {
     "data": {
      "application/vnd.jupyter.widget-view+json": {
       "model_id": "e8c0b7f4b50f467e8d60c1a003a79ba6",
       "version_major": 2,
       "version_minor": 0
      },
      "text/plain": [
       "generation_config.json:   0%|          | 0.00/210 [00:00<?, ?B/s]"
      ]
     },
     "metadata": {},
     "output_type": "display_data"
    }
   ],
   "source": [
    "my_model = AutoModelForCausalLM.from_pretrained(\"MJ141592/first_ft_try_on_message_style\")"
   ]
  },
  {
   "cell_type": "code",
   "execution_count": null,
   "metadata": {},
   "outputs": [],
   "source": []
  },
  {
   "cell_type": "code",
   "execution_count": null,
   "metadata": {},
   "outputs": [],
   "source": []
  },
  {
   "cell_type": "code",
   "execution_count": null,
   "metadata": {},
   "outputs": [],
   "source": []
  },
  {
   "cell_type": "code",
   "execution_count": null,
   "metadata": {},
   "outputs": [],
   "source": []
  },
  {
   "cell_type": "code",
   "execution_count": null,
   "metadata": {},
   "outputs": [],
   "source": [
    "from huggingface_hub import login\n",
    "\n",
    "login(token=\"put token here\")"
   ]
  },
  {
   "cell_type": "code",
   "execution_count": null,
   "metadata": {},
   "outputs": [],
   "source": [
    "# CUDA_LAUNCH_BLOCKING=1"
   ]
  },
  {
   "cell_type": "code",
   "execution_count": null,
   "metadata": {},
   "outputs": [],
   "source": [
    "from dataclasses import dataclass\n",
    "from typing import Optional\n",
    "from pathlib import Path\n",
    "import json\n",
    "\n",
    "import torch\n",
    "from datasets import Dataset\n",
    "from transformers import (\n",
    "    AutoModelForCausalLM,\n",
    "    AutoTokenizer,\n",
    "    BitsAndBytesConfig,\n",
    ")\n",
    "from trl import SFTTrainer, SFTConfig\n",
    "from peft import LoraConfig, TaskType\n",
    "\n",
    "@dataclass\n",
    "class TrainCfg:\n",
    "    base_model: str = \"google/gemma-3-270m-it\"  # small instruct model; adjust for VRAM\n",
    "    out_dir: str = \"./outputs/gemma-qlora\"\n",
    "    bf16: bool = False\n",
    "    per_device_train_batch_size: int = 2\n",
    "    gradient_accumulation_steps: int = 4\n",
    "    max_steps: int = 10\n",
    "    learning_rate: float = 1e-4\n",
    "    warmup_ratio: float = 0.03\n",
    "    logging_steps: int = 10\n",
    "    max_seq_len: int = 1024\n",
    "\n",
    "cfg = TrainCfg()\n",
    "\n",
    "# 4-bit quantization\n",
    "bnb_cfg = BitsAndBytesConfig(\n",
    "    load_in_4bit=True,\n",
    "    bnb_4bit_quant_type=\"nf4\",\n",
    "    bnb_4bit_compute_dtype=torch.bfloat16 if cfg.bf16 else torch.float16,\n",
    "    bnb_4bit_use_double_quant=True,\n",
    ")\n",
    "\n",
    "device_map = \"auto\"\n",
    "\n",
    "tokenizer = AutoTokenizer.from_pretrained(cfg.base_model, use_fast=True)\n",
    "\n",
    "model = AutoModelForCausalLM.from_pretrained(\n",
    "    cfg.base_model,\n",
    "    device_map=device_map,\n",
    "    quantization_config=bnb_cfg,\n",
    "    trust_remote_code=True,\n",
    ")\n",
    "\n",
    "# import os\n",
    "# os.environ[\"CUDA_VISIBLE_DEVICES\"] = \"\"  # optional, forces CPU\n",
    "\n",
    "# device_map = {\"\": \"cpu\"}\n",
    "# cfg.bf16 = False  # CPUs don’t support bf16\n",
    "\n",
    "# model = AutoModelForCausalLM.from_pretrained(\n",
    "#     cfg.base_model,\n",
    "#     device_map=device_map,\n",
    "#     dtype=torch.float32,   # CPU-friendly\n",
    "#     trust_remote_code=True,\n",
    "# )\n",
    "\n",
    "peft_cfg = LoraConfig(\n",
    "    task_type=TaskType.CAUSAL_LM,\n",
    "    r=16,\n",
    "    lora_alpha=32,\n",
    "    lora_dropout=0.05,\n",
    "    target_modules=[\"q_proj\", \"k_proj\", \"v_proj\", \"o_proj\", \"gate_proj\", \"up_proj\", \"down_proj\"],\n",
    ")\n",
    "\n"
   ]
  },
  {
   "cell_type": "code",
   "execution_count": null,
   "metadata": {},
   "outputs": [],
   "source": [
    "# Load fine_tune_data.json\n",
    "data_path = Path(\"fine_tune_data.json\")\n",
    "with open(data_path, \"r\") as f:\n",
    "    pairs = json.load(f)\n",
    "\n",
    "# Expect list of {\"llm_message\": str, \"user_message\": str}\n",
    "assert isinstance(pairs, list) and all(\"llm_message\" in r and \"user_message\" in r for r in pairs)\n",
    "\n",
    "# Format into supervised text field (prompt + target)\n",
    "BOS = tokenizer.bos_token\n",
    "EOS = tokenizer.eos_token\n",
    "if tokenizer.pad_token_id is None:\n",
    "    tokenizer.pad_token = tokenizer.eos_token\n",
    "\n",
    "def format_row(r):\n",
    "    prompt = r[\"llm_message\"].strip()\n",
    "    target = r[\"user_message\"].strip()\n",
    "    return {\"text\": f\"{BOS}{prompt}\\n{target}{EOS}\"}\n",
    "\n",
    "train_ds = Dataset.from_list([format_row(r) for r in pairs])\n",
    "print(train_ds[0][\"text\"][:200])\n"
   ]
  },
  {
   "cell_type": "code",
   "execution_count": null,
   "metadata": {},
   "outputs": [],
   "source": [
    "training_args = SFTConfig(\n",
    "    output_dir=cfg.out_dir,\n",
    "    bf16=cfg.bf16,\n",
    "    per_device_train_batch_size=cfg.per_device_train_batch_size,\n",
    "    gradient_accumulation_steps=cfg.gradient_accumulation_steps,\n",
    "    max_steps=cfg.max_steps,\n",
    "    learning_rate=cfg.learning_rate,\n",
    "    warmup_ratio=cfg.warmup_ratio,\n",
    "    logging_steps=cfg.logging_steps,\n",
    "    save_steps=0,\n",
    "    dataset_text_field=\"text\",\n",
    "    packing=True,\n",
    ")\n",
    "\n",
    "trainer = SFTTrainer(\n",
    "    model=model,\n",
    "    train_dataset=train_ds,\n",
    "    peft_config=peft_cfg,\n",
    "    args=training_args,\n",
    ")\n",
    "trainer.train()\n"
   ]
  },
  {
   "cell_type": "code",
   "execution_count": null,
   "metadata": {},
   "outputs": [],
   "source": [
    "# Save adapter and tokenizer\n",
    "Path(cfg.out_dir).mkdir(parents=True, exist_ok=True)\n",
    "trainer.model.save_pretrained(cfg.out_dir)\n",
    "tokenizer.save_pretrained(cfg.out_dir)\n",
    "print(f\"Saved adapter to {cfg.out_dir}\")\n",
    "\n",
    "# Quick inference: merge adapter on the fly\n",
    "from peft import PeftModel\n",
    "base = AutoModelForCausalLM.from_pretrained(\n",
    "    cfg.base_model,\n",
    "    device_map=device_map,\n",
    "    quantization_config=bnb_cfg,\n",
    "    trust_remote_code=True,\n",
    ")\n",
    "adapted = PeftModel.from_pretrained(base, cfg.out_dir)\n",
    "adapted.eval()\n",
    "\n",
    "prompt = \"hey how are you?\"\n",
    "inputs = tokenizer(prompt, return_tensors=\"pt\").to(adapted.device)\n",
    "with torch.no_grad():\n",
    "    out = adapted.generate(**inputs, max_new_tokens=40, do_sample=True, temperature=0.7)\n",
    "print(tokenizer.decode(out[0], skip_special_tokens=True))\n"
   ]
  },
  {
   "cell_type": "code",
   "execution_count": null,
   "metadata": {},
   "outputs": [],
   "source": []
  }
 ],
 "metadata": {
  "kernelspec": {
   "display_name": "Python 3 (ipykernel)",
   "language": "python",
   "name": "python3"
  },
  "language_info": {
   "codemirror_mode": {
    "name": "ipython",
    "version": 3
   },
   "file_extension": ".py",
   "mimetype": "text/x-python",
   "name": "python",
   "nbconvert_exporter": "python",
   "pygments_lexer": "ipython3",
   "version": "3.12.3"
  }
 },
 "nbformat": 4,
 "nbformat_minor": 4
}
